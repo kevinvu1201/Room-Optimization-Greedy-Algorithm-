{
 "cells": [
  {
   "cell_type": "code",
   "execution_count": 26,
   "id": "361ded47-a07e-4c2b-b3e0-fb4a8edafbc3",
   "metadata": {},
   "outputs": [],
   "source": [
    "import random\n",
    "\n",
    "def generate_random_events(num_events): \n",
    " \n",
    "    events = []\n",
    "    \n",
    "    for i in range(num_events):\n",
    "        # Generate random start time between 0 and 20 hours\n",
    "        start_time = random.uniform(0, 20)\n",
    "        \n",
    "        # Generate random duration between 1 and 4 hours\n",
    "        duration = random.uniform(1, 4)\n",
    "        \n",
    "        # Calculate end time\n",
    "        end_time = start_time + duration\n",
    "        \n",
    "        # Create event as a list: [start_time, end_time, duration]\n",
    "        event = [start_time, end_time, duration]\n",
    "        events.append(event)\n",
    "    \n",
    "    return events\n",
    "\n",
    "def sort_events_by_end_time(events): \n",
    "    \n",
    "    # Make a copy of the events list\n",
    "    sorted_events = []\n",
    "    for event in events:\n",
    "        sorted_events.append(event)\n",
    "    \n",
    "    # Simple bubble sort by end time\n",
    "    n = len(sorted_events)\n",
    "    for i in range(n):\n",
    "        for j in range(0, n - i - 1):\n",
    "            # Compare end times (index 1 in each event)\n",
    "            if sorted_events[j][1] > sorted_events[j + 1][1]:\n",
    "                # Swap the events\n",
    "                temp = sorted_events[j]\n",
    "                sorted_events[j] = sorted_events[j + 1]\n",
    "                sorted_events[j + 1] = temp\n",
    "    \n",
    "    return sorted_events\n",
    "\n",
    "def select_optimal_events(sorted_events): \n",
    "\n",
    "    selected_events = []\n",
    "    last_end_time = 0  # Keep track of when the last selected event ends\n",
    "    \n",
    "    for event in sorted_events:\n",
    "        start_time = event[0]\n",
    "        end_time = event[1]\n",
    "        \n",
    "        # Check if this event starts after the last selected event ends\n",
    "        if start_time >= last_end_time:\n",
    "            # This event doesn't overlap, so we can select it\n",
    "            selected_events.append(event)\n",
    "            last_end_time = end_time  # Update the end time\n",
    "    \n",
    "    return selected_events\n",
    "\n",
    "def calculate_total_hours(events): \n",
    "    \n",
    "    total_hours = 0\n",
    "    for event in events:\n",
    "        total_hours = total_hours + event[2]  # Add the duration (index 2)\n",
    "    \n",
    "    return total_hours\n",
    "\n",
    "def print_events(events, title): \n",
    "    \n",
    "    print(title)\n",
    "    print(\"-\" * 50)\n",
    "    \n",
    "    for i in range(len(events)):\n",
    "        event = events[i]\n",
    "        start_time = event[0]\n",
    "        end_time = event[1]\n",
    "        duration = event[2]\n",
    "        \n",
    "        # Format the times nicely\n",
    "        start_hour = int(start_time)\n",
    "        start_minute = int((start_time - start_hour) * 60)\n",
    "        end_hour = int(end_time)\n",
    "        end_minute = int((end_time - end_hour) * 60)\n",
    "        \n",
    "        print(f\"Event {i+1}: {start_hour:02d}:{start_minute:02d} - {end_hour:02d}:{end_minute:02d} ({duration:.1f} hours)\")"
   ]
  },
  {
   "cell_type": "markdown",
   "id": "364f9d88-783c-4b2b-8bc8-d72eb24a6569",
   "metadata": {},
   "source": [
    "## Start Interface\n"
   ]
  },
  {
   "cell_type": "code",
   "execution_count": 8,
   "id": "2b16d2e4-9d84-4f3a-a7bc-773444dce352",
   "metadata": {},
   "outputs": [
    {
     "name": "stdout",
     "output_type": "stream",
     "text": [
      "Room Booking Optimizer\n",
      "==============================\n",
      "This program maximizes room usage using a greedy algorithm.\n",
      "\n"
     ]
    }
   ],
   "source": [
    "print(\"Room Booking Optimizer\") \n",
    "print(\"=\" * 30)\n",
    "print(\"This program maximizes room usage using a greedy algorithm.\")\n",
    "print()"
   ]
  },
  {
   "cell_type": "markdown",
   "id": "3c413f09-4d2f-4ead-ae08-7861125a283c",
   "metadata": {},
   "source": [
    "## Generate 10 Random Events "
   ]
  },
  {
   "cell_type": "code",
   "execution_count": 22,
   "id": "b8797c17-bb01-4ef1-872a-f7e00e5958dd",
   "metadata": {},
   "outputs": [
    {
     "name": "stdout",
     "output_type": "stream",
     "text": [
      "Step 1: Generating random events...\n",
      "All Generated Events:\n",
      "--------------------------------------------------\n",
      "Event 1: 10:58 - 14:35 (3.6 hours)\n",
      "Event 2: 19:21 - 23:12 (3.9 hours)\n",
      "Event 3: 01:29 - 04:37 (3.1 hours)\n",
      "Event 4: 00:34 - 02:18 (1.7 hours)\n",
      "Event 5: 02:18 - 04:22 (2.1 hours)\n",
      "Event 6: 04:54 - 06:39 (1.8 hours)\n",
      "Event 7: 12:07 - 14:02 (1.9 hours)\n",
      "Event 8: 09:11 - 12:11 (3.0 hours)\n",
      "Event 9: 19:52 - 21:05 (1.2 hours)\n",
      "Event 10: 10:39 - 11:39 (1.0 hours)\n",
      "\n"
     ]
    }
   ],
   "source": [
    "print(\"Step 1: Generating random events...\") \n",
    "all_events = generate_random_events(10)\n",
    "print_events(all_events, \"All Generated Events:\")\n",
    "print()"
   ]
  },
  {
   "cell_type": "markdown",
   "id": "e7030c1a-7941-4dbb-8a74-ea8d301146ab",
   "metadata": {},
   "source": [
    "## Sort Events by End Time"
   ]
  },
  {
   "cell_type": "code",
   "execution_count": 23,
   "id": "283f08f4-e90b-43ef-96dd-a6cb218eb453",
   "metadata": {},
   "outputs": [
    {
     "name": "stdout",
     "output_type": "stream",
     "text": [
      "Step 2: Sorting events by end time...\n",
      "Events Sorted by End Time:\n",
      "--------------------------------------------------\n",
      "Event 1: 00:34 - 02:18 (1.7 hours)\n",
      "Event 2: 02:18 - 04:22 (2.1 hours)\n",
      "Event 3: 01:29 - 04:37 (3.1 hours)\n",
      "Event 4: 04:54 - 06:39 (1.8 hours)\n",
      "Event 5: 10:39 - 11:39 (1.0 hours)\n",
      "Event 6: 09:11 - 12:11 (3.0 hours)\n",
      "Event 7: 12:07 - 14:02 (1.9 hours)\n",
      "Event 8: 10:58 - 14:35 (3.6 hours)\n",
      "Event 9: 19:52 - 21:05 (1.2 hours)\n",
      "Event 10: 19:21 - 23:12 (3.9 hours)\n",
      "\n"
     ]
    }
   ],
   "source": [
    "print(\"Step 2: Sorting events by end time...\") \n",
    "sorted_events = sort_events_by_end_time(all_events)\n",
    "print_events(sorted_events, \"Events Sorted by End Time:\")\n",
    "print()"
   ]
  },
  {
   "cell_type": "markdown",
   "id": "8de92c72-df95-484b-b3e0-bb8fb95eaf87",
   "metadata": {},
   "source": [
    "## Select the \"Next Best\" Events"
   ]
  },
  {
   "cell_type": "code",
   "execution_count": 24,
   "id": "46bd6fb0-5d78-4811-9918-8d53de8fa38e",
   "metadata": {},
   "outputs": [
    {
     "name": "stdout",
     "output_type": "stream",
     "text": [
      "Step 3: Selecting optimal events (no overlaps)...\n",
      "Selected Optimal Schedule:\n",
      "--------------------------------------------------\n",
      "Event 1: 00:34 - 02:18 (1.7 hours)\n",
      "Event 2: 04:54 - 06:39 (1.8 hours)\n",
      "Event 3: 10:39 - 11:39 (1.0 hours)\n",
      "Event 4: 12:07 - 14:02 (1.9 hours)\n",
      "Event 5: 19:52 - 21:05 (1.2 hours)\n",
      "\n"
     ]
    }
   ],
   "source": [
    "print(\"Step 3: Selecting optimal events (no overlaps)...\") \n",
    "selected_events = select_optimal_events(sorted_events)\n",
    "print_events(selected_events, \"Selected Optimal Schedule:\")\n",
    "print()"
   ]
  },
  {
   "cell_type": "markdown",
   "id": "1c70ec0f-002b-4791-b31e-16011128b7a2",
   "metadata": {},
   "source": [
    "## Calculate and display results"
   ]
  },
  {
   "cell_type": "code",
   "execution_count": 25,
   "id": "cf30dbee-e4ef-4926-af90-ebc51f69afac",
   "metadata": {},
   "outputs": [
    {
     "name": "stdout",
     "output_type": "stream",
     "text": [
      "FINAL RESULTS:\n",
      "====================\n",
      "Total events generated: 10\n",
      "Events selected: 5\n",
      "Total usage hours: 7.6 hours\n",
      "Room utilization: 31.8%\n"
     ]
    }
   ],
   "source": [
    "total_hours = calculate_total_hours(selected_events) \n",
    "print(\"FINAL RESULTS:\")\n",
    "print(\"=\" * 20)\n",
    "print(f\"Total events generated: {len(all_events)}\")\n",
    "print(f\"Events selected: {len(selected_events)}\")\n",
    "print(f\"Total usage hours: {total_hours:.1f} hours\")\n",
    "print(f\"Room utilization: {(total_hours/24)*100:.1f}%\")"
   ]
  },
  {
   "cell_type": "code",
   "execution_count": 31,
   "id": "b65c60bb-7c28-4387-88a7-90620d7d7aa9",
   "metadata": {},
   "outputs": [
    {
     "name": "stdout",
     "output_type": "stream",
     "text": [
      "2\n"
     ]
    }
   ],
   "source": [
    "a = [1,2]\n",
    "n = len(a)\n",
    "print(n)"
   ]
  }
 ],
 "metadata": {
  "kernelspec": {
   "display_name": "Python [conda env:base] *",
   "language": "python",
   "name": "conda-base-py"
  },
  "language_info": {
   "codemirror_mode": {
    "name": "ipython",
    "version": 3
   },
   "file_extension": ".py",
   "mimetype": "text/x-python",
   "name": "python",
   "nbconvert_exporter": "python",
   "pygments_lexer": "ipython3",
   "version": "3.13.5"
  }
 },
 "nbformat": 4,
 "nbformat_minor": 5
}
